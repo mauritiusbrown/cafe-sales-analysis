{
  "nbformat": 4,
  "nbformat_minor": 0,
  "metadata": {
    "colab": {
      "provenance": []
    },
    "kernelspec": {
      "name": "python3",
      "display_name": "Python 3"
    },
    "language_info": {
      "name": "python"
    }
  },
  "cells": [
    {
      "cell_type": "code",
      "source": [
        "# ✅ 1. 나눔고딕 폰트 설치\n",
        "!apt-get -qq install -y fonts-nanum\n",
        "!fc-cache -fv\n",
        "!rm -rf ~/.cache/matplotlib\n",
        "\n",
        "# ✅ 2. 폰트 설정 적용\n",
        "import matplotlib.pyplot as plt\n",
        "plt.rcParams['font.family'] = 'NanumGothic'\n"
      ],
      "metadata": {
        "id": "lFJXUsXJxWS8",
        "colab": {
          "base_uri": "https://localhost:8080/",
          "height": 0
        },
        "outputId": "c649f8e4-06ec-46d2-a6eb-006db2d3caf4"
      },
      "execution_count": 1,
      "outputs": [
        {
          "output_type": "stream",
          "name": "stdout",
          "text": [
            "/usr/share/fonts: caching, new cache contents: 0 fonts, 1 dirs\n",
            "/usr/share/fonts/truetype: caching, new cache contents: 0 fonts, 3 dirs\n",
            "/usr/share/fonts/truetype/humor-sans: caching, new cache contents: 1 fonts, 0 dirs\n",
            "/usr/share/fonts/truetype/liberation: caching, new cache contents: 16 fonts, 0 dirs\n",
            "/usr/share/fonts/truetype/nanum: caching, new cache contents: 12 fonts, 0 dirs\n",
            "/usr/local/share/fonts: caching, new cache contents: 0 fonts, 0 dirs\n",
            "/root/.local/share/fonts: skipping, no such directory\n",
            "/root/.fonts: skipping, no such directory\n",
            "/usr/share/fonts/truetype: skipping, looped directory detected\n",
            "/usr/share/fonts/truetype/humor-sans: skipping, looped directory detected\n",
            "/usr/share/fonts/truetype/liberation: skipping, looped directory detected\n",
            "/usr/share/fonts/truetype/nanum: skipping, looped directory detected\n",
            "/var/cache/fontconfig: cleaning cache directory\n",
            "/root/.cache/fontconfig: not cleaning non-existent cache directory\n",
            "/root/.fontconfig: not cleaning non-existent cache directory\n",
            "fc-cache: succeeded\n"
          ]
        }
      ]
    },
    {
      "cell_type": "markdown",
      "source": [
        "# ☕ 카페 매출 데이터 분석 포트폴리오\n",
        "📍 작성자: [이름 입력] 📍 분석 대상: 모리셔스브라운 안산본오점 📍 분석일: 2025년 7월 30일\n",
        "\n",
        "\n",
        "---\n",
        "\n",
        "\n",
        "이 분석은 카페 매출 데이터를 기반으로 다음을 분석하여 전략을 도출합니다:\n",
        "\n",
        "메뉴별 매출 구조\n",
        "시간대별 고객 집중도\n",
        "객단가 기반 수익성 파악\n",
        "목적: 운영 효율화 및 매출 상승 전략 제안\n",
        "\n",
        "*   메뉴별 매출 구조\n",
        "*   시간대별 고객 집중도\n",
        "\n",
        "*   객단가 기반 수익성 파악\n",
        "*   목적: 운영 효율화 및 매출 상승 전략 제안\n",
        "\n",
        "\n"
      ],
      "metadata": {
        "id": "YkcnPn-svM-X"
      }
    },
    {
      "cell_type": "code",
      "execution_count": 2,
      "metadata": {
        "colab": {
          "base_uri": "https://localhost:8080/",
          "height": 123
        },
        "id": "JFqTyHkrcEa5",
        "outputId": "ef19c11b-de7b-4161-9efe-744e11702f3e"
      },
      "outputs": [
        {
          "output_type": "execute_result",
          "data": {
            "text/plain": [
              "<IPython.core.display.Markdown object>"
            ],
            "text/markdown": "\n# ☕️ 카페 매출 데이터 분석\n모리셔스브라운 안산본오점의 하루 매출 데이터를 기반으로, 메뉴별 매출, 시간대별 매출, 객단가를 분석하여 운영 전략을 도출합니다.\n\n**📅 분석 날짜:** 2025년 7월 31일\n**🧑 작성자:** (김정배)\n**🎯 목적:** 매출 구조 이해 및 효율적인 매장 운영 전략 제안\n"
          },
          "metadata": {},
          "execution_count": 2
        }
      ],
      "source": [
        "# 📘 Section 1: 프로젝트 소개\n",
        "from IPython.display import Markdown\n",
        "\n",
        "Markdown(\"\"\"\n",
        "# ☕️ 카페 매출 데이터 분석\n",
        "모리셔스브라운 안산본오점의 하루 매출 데이터를 기반으로, 메뉴별 매출, 시간대별 매출, 객단가를 분석하여 운영 전략을 도출합니다.\n",
        "\n",
        "**📅 분석 날짜:** 2025년 7월 31일\n",
        "**🧑 작성자:** (김정배)\n",
        "**🎯 목적:** 매출 구조 이해 및 효율적인 매장 운영 전략 제안\n",
        "\"\"\")\n"
      ]
    },
    {
      "cell_type": "markdown",
      "source": [
        "📌 [2] 데이터 불러오기"
      ],
      "metadata": {
        "id": "_O9WGZqClj90"
      }
    },
    {
      "cell_type": "code",
      "source": [
        "# 📘 Section 2: 데이터 불러오기\n",
        "import pandas as pd\n",
        "import matplotlib.pyplot as plt\n",
        "\n"
      ],
      "metadata": {
        "id": "2hl313CydR5t"
      },
      "execution_count": 3,
      "outputs": []
    },
    {
      "cell_type": "markdown",
      "source": [
        "📌 [3] 매출 계산 및 컬럼 정리\n"
      ],
      "metadata": {
        "id": "0s0TLwAtm20_"
      }
    },
    {
      "cell_type": "code",
      "source": [
        "# 엑셀 업로드 후 경로 입력\n",
        "file_path = \"모리셔스브라운 안산본오점 매출자료.xlsx\"\n",
        "df = pd.read_excel(file_path)\n",
        "\n",
        "# 매출 열 생성\n",
        "df[\"매출\"] = df[\"수량\"] * df[\"단가\"]\n",
        "df[\"시간대\"] = pd.to_datetime(df[\"시간\"], format=\"%H:%M:%S\").dt.hour\n",
        "df[\"객단가\"] = df[\"매출\"] / df[\"수량\"]\n",
        "\n",
        "df.head()"
      ],
      "metadata": {
        "colab": {
          "base_uri": "https://localhost:8080/",
          "height": 206
        },
        "id": "jn1gsNGiqaRb",
        "outputId": "1cf6c9c4-e114-443c-fed2-e5f3f91645a4"
      },
      "execution_count": 4,
      "outputs": [
        {
          "output_type": "execute_result",
          "data": {
            "text/plain": [
              "          날짜        시간          메뉴  수량    단가    매출  시간대     객단가\n",
              "0 2025-07-30  12:00:00       바닐라라떼   1  5000  5000   12  5000.0\n",
              "1 2025-07-30  12:00:00       아메리카노   1  3500  3500   12  3500.0\n",
              "2 2025-07-30  01:00:00  디카페인 아메리카노   1  4300  4300    1  4300.0\n",
              "3 2025-07-30  01:00:00         생강차   1  4500  4500    1  4500.0\n",
              "4 2025-07-30  01:00:00     뉴욕치즈케이크   1  6500  6500    1  6500.0"
            ],
            "text/html": [
              "\n",
              "  <div id=\"df-270bef5b-0c03-458e-872e-6f35107396f2\" class=\"colab-df-container\">\n",
              "    <div>\n",
              "<style scoped>\n",
              "    .dataframe tbody tr th:only-of-type {\n",
              "        vertical-align: middle;\n",
              "    }\n",
              "\n",
              "    .dataframe tbody tr th {\n",
              "        vertical-align: top;\n",
              "    }\n",
              "\n",
              "    .dataframe thead th {\n",
              "        text-align: right;\n",
              "    }\n",
              "</style>\n",
              "<table border=\"1\" class=\"dataframe\">\n",
              "  <thead>\n",
              "    <tr style=\"text-align: right;\">\n",
              "      <th></th>\n",
              "      <th>날짜</th>\n",
              "      <th>시간</th>\n",
              "      <th>메뉴</th>\n",
              "      <th>수량</th>\n",
              "      <th>단가</th>\n",
              "      <th>매출</th>\n",
              "      <th>시간대</th>\n",
              "      <th>객단가</th>\n",
              "    </tr>\n",
              "  </thead>\n",
              "  <tbody>\n",
              "    <tr>\n",
              "      <th>0</th>\n",
              "      <td>2025-07-30</td>\n",
              "      <td>12:00:00</td>\n",
              "      <td>바닐라라떼</td>\n",
              "      <td>1</td>\n",
              "      <td>5000</td>\n",
              "      <td>5000</td>\n",
              "      <td>12</td>\n",
              "      <td>5000.0</td>\n",
              "    </tr>\n",
              "    <tr>\n",
              "      <th>1</th>\n",
              "      <td>2025-07-30</td>\n",
              "      <td>12:00:00</td>\n",
              "      <td>아메리카노</td>\n",
              "      <td>1</td>\n",
              "      <td>3500</td>\n",
              "      <td>3500</td>\n",
              "      <td>12</td>\n",
              "      <td>3500.0</td>\n",
              "    </tr>\n",
              "    <tr>\n",
              "      <th>2</th>\n",
              "      <td>2025-07-30</td>\n",
              "      <td>01:00:00</td>\n",
              "      <td>디카페인 아메리카노</td>\n",
              "      <td>1</td>\n",
              "      <td>4300</td>\n",
              "      <td>4300</td>\n",
              "      <td>1</td>\n",
              "      <td>4300.0</td>\n",
              "    </tr>\n",
              "    <tr>\n",
              "      <th>3</th>\n",
              "      <td>2025-07-30</td>\n",
              "      <td>01:00:00</td>\n",
              "      <td>생강차</td>\n",
              "      <td>1</td>\n",
              "      <td>4500</td>\n",
              "      <td>4500</td>\n",
              "      <td>1</td>\n",
              "      <td>4500.0</td>\n",
              "    </tr>\n",
              "    <tr>\n",
              "      <th>4</th>\n",
              "      <td>2025-07-30</td>\n",
              "      <td>01:00:00</td>\n",
              "      <td>뉴욕치즈케이크</td>\n",
              "      <td>1</td>\n",
              "      <td>6500</td>\n",
              "      <td>6500</td>\n",
              "      <td>1</td>\n",
              "      <td>6500.0</td>\n",
              "    </tr>\n",
              "  </tbody>\n",
              "</table>\n",
              "</div>\n",
              "    <div class=\"colab-df-buttons\">\n",
              "\n",
              "  <div class=\"colab-df-container\">\n",
              "    <button class=\"colab-df-convert\" onclick=\"convertToInteractive('df-270bef5b-0c03-458e-872e-6f35107396f2')\"\n",
              "            title=\"Convert this dataframe to an interactive table.\"\n",
              "            style=\"display:none;\">\n",
              "\n",
              "  <svg xmlns=\"http://www.w3.org/2000/svg\" height=\"24px\" viewBox=\"0 -960 960 960\">\n",
              "    <path d=\"M120-120v-720h720v720H120Zm60-500h600v-160H180v160Zm220 220h160v-160H400v160Zm0 220h160v-160H400v160ZM180-400h160v-160H180v160Zm440 0h160v-160H620v160ZM180-180h160v-160H180v160Zm440 0h160v-160H620v160Z\"/>\n",
              "  </svg>\n",
              "    </button>\n",
              "\n",
              "  <style>\n",
              "    .colab-df-container {\n",
              "      display:flex;\n",
              "      gap: 12px;\n",
              "    }\n",
              "\n",
              "    .colab-df-convert {\n",
              "      background-color: #E8F0FE;\n",
              "      border: none;\n",
              "      border-radius: 50%;\n",
              "      cursor: pointer;\n",
              "      display: none;\n",
              "      fill: #1967D2;\n",
              "      height: 32px;\n",
              "      padding: 0 0 0 0;\n",
              "      width: 32px;\n",
              "    }\n",
              "\n",
              "    .colab-df-convert:hover {\n",
              "      background-color: #E2EBFA;\n",
              "      box-shadow: 0px 1px 2px rgba(60, 64, 67, 0.3), 0px 1px 3px 1px rgba(60, 64, 67, 0.15);\n",
              "      fill: #174EA6;\n",
              "    }\n",
              "\n",
              "    .colab-df-buttons div {\n",
              "      margin-bottom: 4px;\n",
              "    }\n",
              "\n",
              "    [theme=dark] .colab-df-convert {\n",
              "      background-color: #3B4455;\n",
              "      fill: #D2E3FC;\n",
              "    }\n",
              "\n",
              "    [theme=dark] .colab-df-convert:hover {\n",
              "      background-color: #434B5C;\n",
              "      box-shadow: 0px 1px 3px 1px rgba(0, 0, 0, 0.15);\n",
              "      filter: drop-shadow(0px 1px 2px rgba(0, 0, 0, 0.3));\n",
              "      fill: #FFFFFF;\n",
              "    }\n",
              "  </style>\n",
              "\n",
              "    <script>\n",
              "      const buttonEl =\n",
              "        document.querySelector('#df-270bef5b-0c03-458e-872e-6f35107396f2 button.colab-df-convert');\n",
              "      buttonEl.style.display =\n",
              "        google.colab.kernel.accessAllowed ? 'block' : 'none';\n",
              "\n",
              "      async function convertToInteractive(key) {\n",
              "        const element = document.querySelector('#df-270bef5b-0c03-458e-872e-6f35107396f2');\n",
              "        const dataTable =\n",
              "          await google.colab.kernel.invokeFunction('convertToInteractive',\n",
              "                                                    [key], {});\n",
              "        if (!dataTable) return;\n",
              "\n",
              "        const docLinkHtml = 'Like what you see? Visit the ' +\n",
              "          '<a target=\"_blank\" href=https://colab.research.google.com/notebooks/data_table.ipynb>data table notebook</a>'\n",
              "          + ' to learn more about interactive tables.';\n",
              "        element.innerHTML = '';\n",
              "        dataTable['output_type'] = 'display_data';\n",
              "        await google.colab.output.renderOutput(dataTable, element);\n",
              "        const docLink = document.createElement('div');\n",
              "        docLink.innerHTML = docLinkHtml;\n",
              "        element.appendChild(docLink);\n",
              "      }\n",
              "    </script>\n",
              "  </div>\n",
              "\n",
              "\n",
              "    <div id=\"df-216c9601-69e3-46a5-9987-5266de11ac9b\">\n",
              "      <button class=\"colab-df-quickchart\" onclick=\"quickchart('df-216c9601-69e3-46a5-9987-5266de11ac9b')\"\n",
              "                title=\"Suggest charts\"\n",
              "                style=\"display:none;\">\n",
              "\n",
              "<svg xmlns=\"http://www.w3.org/2000/svg\" height=\"24px\"viewBox=\"0 0 24 24\"\n",
              "     width=\"24px\">\n",
              "    <g>\n",
              "        <path d=\"M19 3H5c-1.1 0-2 .9-2 2v14c0 1.1.9 2 2 2h14c1.1 0 2-.9 2-2V5c0-1.1-.9-2-2-2zM9 17H7v-7h2v7zm4 0h-2V7h2v10zm4 0h-2v-4h2v4z\"/>\n",
              "    </g>\n",
              "</svg>\n",
              "      </button>\n",
              "\n",
              "<style>\n",
              "  .colab-df-quickchart {\n",
              "      --bg-color: #E8F0FE;\n",
              "      --fill-color: #1967D2;\n",
              "      --hover-bg-color: #E2EBFA;\n",
              "      --hover-fill-color: #174EA6;\n",
              "      --disabled-fill-color: #AAA;\n",
              "      --disabled-bg-color: #DDD;\n",
              "  }\n",
              "\n",
              "  [theme=dark] .colab-df-quickchart {\n",
              "      --bg-color: #3B4455;\n",
              "      --fill-color: #D2E3FC;\n",
              "      --hover-bg-color: #434B5C;\n",
              "      --hover-fill-color: #FFFFFF;\n",
              "      --disabled-bg-color: #3B4455;\n",
              "      --disabled-fill-color: #666;\n",
              "  }\n",
              "\n",
              "  .colab-df-quickchart {\n",
              "    background-color: var(--bg-color);\n",
              "    border: none;\n",
              "    border-radius: 50%;\n",
              "    cursor: pointer;\n",
              "    display: none;\n",
              "    fill: var(--fill-color);\n",
              "    height: 32px;\n",
              "    padding: 0;\n",
              "    width: 32px;\n",
              "  }\n",
              "\n",
              "  .colab-df-quickchart:hover {\n",
              "    background-color: var(--hover-bg-color);\n",
              "    box-shadow: 0 1px 2px rgba(60, 64, 67, 0.3), 0 1px 3px 1px rgba(60, 64, 67, 0.15);\n",
              "    fill: var(--button-hover-fill-color);\n",
              "  }\n",
              "\n",
              "  .colab-df-quickchart-complete:disabled,\n",
              "  .colab-df-quickchart-complete:disabled:hover {\n",
              "    background-color: var(--disabled-bg-color);\n",
              "    fill: var(--disabled-fill-color);\n",
              "    box-shadow: none;\n",
              "  }\n",
              "\n",
              "  .colab-df-spinner {\n",
              "    border: 2px solid var(--fill-color);\n",
              "    border-color: transparent;\n",
              "    border-bottom-color: var(--fill-color);\n",
              "    animation:\n",
              "      spin 1s steps(1) infinite;\n",
              "  }\n",
              "\n",
              "  @keyframes spin {\n",
              "    0% {\n",
              "      border-color: transparent;\n",
              "      border-bottom-color: var(--fill-color);\n",
              "      border-left-color: var(--fill-color);\n",
              "    }\n",
              "    20% {\n",
              "      border-color: transparent;\n",
              "      border-left-color: var(--fill-color);\n",
              "      border-top-color: var(--fill-color);\n",
              "    }\n",
              "    30% {\n",
              "      border-color: transparent;\n",
              "      border-left-color: var(--fill-color);\n",
              "      border-top-color: var(--fill-color);\n",
              "      border-right-color: var(--fill-color);\n",
              "    }\n",
              "    40% {\n",
              "      border-color: transparent;\n",
              "      border-right-color: var(--fill-color);\n",
              "      border-top-color: var(--fill-color);\n",
              "    }\n",
              "    60% {\n",
              "      border-color: transparent;\n",
              "      border-right-color: var(--fill-color);\n",
              "    }\n",
              "    80% {\n",
              "      border-color: transparent;\n",
              "      border-right-color: var(--fill-color);\n",
              "      border-bottom-color: var(--fill-color);\n",
              "    }\n",
              "    90% {\n",
              "      border-color: transparent;\n",
              "      border-bottom-color: var(--fill-color);\n",
              "    }\n",
              "  }\n",
              "</style>\n",
              "\n",
              "      <script>\n",
              "        async function quickchart(key) {\n",
              "          const quickchartButtonEl =\n",
              "            document.querySelector('#' + key + ' button');\n",
              "          quickchartButtonEl.disabled = true;  // To prevent multiple clicks.\n",
              "          quickchartButtonEl.classList.add('colab-df-spinner');\n",
              "          try {\n",
              "            const charts = await google.colab.kernel.invokeFunction(\n",
              "                'suggestCharts', [key], {});\n",
              "          } catch (error) {\n",
              "            console.error('Error during call to suggestCharts:', error);\n",
              "          }\n",
              "          quickchartButtonEl.classList.remove('colab-df-spinner');\n",
              "          quickchartButtonEl.classList.add('colab-df-quickchart-complete');\n",
              "        }\n",
              "        (() => {\n",
              "          let quickchartButtonEl =\n",
              "            document.querySelector('#df-216c9601-69e3-46a5-9987-5266de11ac9b button');\n",
              "          quickchartButtonEl.style.display =\n",
              "            google.colab.kernel.accessAllowed ? 'block' : 'none';\n",
              "        })();\n",
              "      </script>\n",
              "    </div>\n",
              "\n",
              "    </div>\n",
              "  </div>\n"
            ],
            "application/vnd.google.colaboratory.intrinsic+json": {
              "type": "dataframe",
              "variable_name": "df",
              "summary": "{\n  \"name\": \"df\",\n  \"rows\": 17,\n  \"fields\": [\n    {\n      \"column\": \"\\ub0a0\\uc9dc\",\n      \"properties\": {\n        \"dtype\": \"date\",\n        \"min\": \"2025-07-30 00:00:00\",\n        \"max\": \"2025-07-30 00:00:00\",\n        \"num_unique_values\": 1,\n        \"samples\": [\n          \"2025-07-30 00:00:00\"\n        ],\n        \"semantic_type\": \"\",\n        \"description\": \"\"\n      }\n    },\n    {\n      \"column\": \"\\uc2dc\\uac04\",\n      \"properties\": {\n        \"dtype\": \"string\",\n        \"num_unique_values\": 13,\n        \"samples\": [\n          \"03:54:00\"\n        ],\n        \"semantic_type\": \"\",\n        \"description\": \"\"\n      }\n    },\n    {\n      \"column\": \"\\uba54\\ub274\",\n      \"properties\": {\n        \"dtype\": \"string\",\n        \"num_unique_values\": 11,\n        \"samples\": [\n          \"\\ub2ec\\uace0\\ub098\\ub77c\\ub5bc(\\uc0f7)\"\n        ],\n        \"semantic_type\": \"\",\n        \"description\": \"\"\n      }\n    },\n    {\n      \"column\": \"\\uc218\\ub7c9\",\n      \"properties\": {\n        \"dtype\": \"number\",\n        \"std\": 0,\n        \"min\": 1,\n        \"max\": 2,\n        \"num_unique_values\": 2,\n        \"samples\": [\n          2\n        ],\n        \"semantic_type\": \"\",\n        \"description\": \"\"\n      }\n    },\n    {\n      \"column\": \"\\ub2e8\\uac00\",\n      \"properties\": {\n        \"dtype\": \"number\",\n        \"std\": 868,\n        \"min\": 3500,\n        \"max\": 6500,\n        \"num_unique_values\": 9,\n        \"samples\": [\n          5300\n        ],\n        \"semantic_type\": \"\",\n        \"description\": \"\"\n      }\n    },\n    {\n      \"column\": \"\\ub9e4\\ucd9c\",\n      \"properties\": {\n        \"dtype\": \"number\",\n        \"std\": 1610,\n        \"min\": 3500,\n        \"max\": 8600,\n        \"num_unique_values\": 12,\n        \"samples\": [\n          4000\n        ],\n        \"semantic_type\": \"\",\n        \"description\": \"\"\n      }\n    },\n    {\n      \"column\": \"\\uc2dc\\uac04\\ub300\",\n      \"properties\": {\n        \"dtype\": \"int32\",\n        \"num_unique_values\": 5,\n        \"samples\": [\n          1\n        ],\n        \"semantic_type\": \"\",\n        \"description\": \"\"\n      }\n    },\n    {\n      \"column\": \"\\uac1d\\ub2e8\\uac00\",\n      \"properties\": {\n        \"dtype\": \"number\",\n        \"std\": 868.9073598491384,\n        \"min\": 3500.0,\n        \"max\": 6500.0,\n        \"num_unique_values\": 9,\n        \"samples\": [\n          5300.0\n        ],\n        \"semantic_type\": \"\",\n        \"description\": \"\"\n      }\n    }\n  ]\n}"
            }
          },
          "metadata": {},
          "execution_count": 4
        }
      ]
    },
    {
      "cell_type": "markdown",
      "source": [
        "## 1. 메뉴별 매출 분석\n",
        "- 가장 매출이 높은 메뉴는 **아메리카노**\n",
        "- 이는 수량이 많기 때문이며, 대중성이 높다는 점을 반영\n",
        "- 그러나 단가는 낮기 때문에 **이익률은 낮을 수 있음**\n"
      ],
      "metadata": {
        "id": "LeMtG-8DrIUP"
      }
    },
    {
      "cell_type": "code",
      "source": [
        "# 📘 Section 3: 데이터 분석\n",
        "\n",
        "# 메뉴별 매출\n",
        "menu_sales = df.groupby(\"메뉴\")[\"매출\"].sum().sort_values(ascending=False)\n",
        "\n",
        "# 시간대별 매출\n",
        "hourly_sales = df.groupby(\"시간대\")[\"매출\"].sum()\n",
        "\n",
        "# 판매 수량 상위 메뉴\n",
        "top_qty = df.groupby(\"메뉴\")[\"수량\"].sum().sort_values(ascending=False).head(5)\n",
        "\n",
        "# 객단가 높은 메뉴\n",
        "avg_per_menu = df.groupby(\"메뉴\")[\"객단가\"].mean().sort_values(ascending=False)\n",
        "\n",
        "# 시각화\n",
        "plt.figure(figsize=(10, 4))\n",
        "menu_sales.plot(kind=\"bar\", color=\"teal\")\n",
        "plt.title(\"메뉴별 매출\")\n",
        "plt.xlabel(\"메뉴\")\n",
        "plt.ylabel(\"매출액\")\n",
        "plt.grid(axis=\"y\")\n",
        "plt.show()\n",
        "\n"
      ],
      "metadata": {
        "colab": {
          "base_uri": "https://localhost:8080/",
          "height": 515
        },
        "id": "8opReuSqdUW_",
        "outputId": "9c7f256a-3758-4c53-d477-98af22f5d534"
      },
      "execution_count": 5,
      "outputs": [
        {
          "output_type": "display_data",
          "data": {
            "text/plain": [
              "<Figure size 1000x400 with 1 Axes>"
            ],
            "image/png": "[encoded data removed]"
          },
          "metadata": {}
        }
      ]
    },
    {
      "cell_type": "markdown",
      "source": [
        "## 2. 시간대별 매출 분석\n",
        "\n",
        "- 매출은 **오후 1시~3시 사이**가 가장 높음\n",
        "- 이 시간대는 피크타임으로 **인력 배치 강화 필요**\n",
        "- 반대로 **오후 5시 이후 매출 거의 없음 → 마케팅 필요**"
      ],
      "metadata": {
        "id": "b-e6f_gUrPKC"
      }
    },
    {
      "cell_type": "markdown",
      "source": [],
      "metadata": {
        "id": "7bJz_opU4Mf6"
      }
    },
    {
      "cell_type": "code",
      "source": [
        "hourly_sales.plot(kind=\"bar\", color=\"orange\", figsize=(10, 4))\n",
        "plt.title(\"시간대별 매출\")\n",
        "plt.xlabel(\"시간대\")\n",
        "plt.ylabel(\"매출액\")\n",
        "plt.grid(axis=\"y\")\n",
        "plt.show()"
      ],
      "metadata": {
        "colab": {
          "base_uri": "https://localhost:8080/",
          "height": 411
        },
        "id": "4B2D9WVUqRR0",
        "outputId": "8fe3c29b-1398-405a-9854-dd41515b0b10"
      },
      "execution_count": 6,
      "outputs": [
        {
          "output_type": "display_data",
          "data": {
            "text/plain": [
              "<Figure size 1000x400 with 1 Axes>"
            ],
            "image/png": "[encoded data removed]"
          },
          "metadata": {}
        }
      ]
    },
    {
      "cell_type": "code",
      "source": [
        "# 📘 Section 4: 결론 및 인사이트\n",
        "\n",
        "Markdown(f\"\"\"\n",
        "## ✅ 분석 인사이트 요약\n",
        "\n",
        "- **매출 1위 메뉴:** {menu_sales.idxmax()} (판매 수량이 많음)\n",
        "- **객단가가 가장 높은 메뉴:** {avg_per_menu.idxmax()}\n",
        "- **피크 시간대:** {hourly_sales.idxmax()}시 (1~3시 사이 집중)\n",
        "- **수량 1위 메뉴:** {top_qty.idxmax()} (하지만 단가 낮음)\n",
        "\n",
        "### 🎯 제안 전략\n",
        "- 라떼류, 디저트류 같은 고객단가 높은 메뉴를 추천메뉴로 강조\n",
        "- 1시~3시 시간대에 인력 집중 배치\n",
        "- 5시 이후 마케팅 또는 프로모션 강화 필요\n",
        "\"\"\")\n"
      ],
      "metadata": {
        "colab": {
          "base_uri": "https://localhost:8080/",
          "height": 237
        },
        "id": "hzezH987dikj",
        "outputId": "5b8fc20b-9de7-44ad-fd48-e767b27548af"
      },
      "execution_count": 7,
      "outputs": [
        {
          "output_type": "execute_result",
          "data": {
            "text/plain": [
              "<IPython.core.display.Markdown object>"
            ],
            "text/markdown": "\n## ✅ 분석 인사이트 요약\n\n- **매출 1위 메뉴:** 아메리카노 (판매 수량이 많음)\n- **객단가가 가장 높은 메뉴:** 뉴욕치즈케이크\n- **피크 시간대:** 2시 (1~3시 사이 집중)\n- **수량 1위 메뉴:** 아메리카노 (하지만 단가 낮음)\n\n### 🎯 제안 전략\n- 라떼류, 디저트류 같은 고객단가 높은 메뉴를 추천메뉴로 강조\n- 1시~3시 시간대에 인력 집중 배치\n- 5시 이후 마케팅 또는 프로모션 강화 필요\n"
          },
          "metadata": {},
          "execution_count": 7
        }
      ]
    },
    {
      "cell_type": "markdown",
      "source": [
        "## ✅ 결론 및 전략 제안\n",
        "\n",
        "- 매출 1위: 아메리카노 (판매량 많음)\n",
        "- 수익성 좋은 메뉴: 디저트류, 라떼류\n",
        "- 피크 시간대: 오후 1~3시\n",
        "- 전략 제안:\n",
        "  - 고객단가 높은 메뉴를 메뉴판·카운터에서 강조\n",
        "  - 오후 1~3시 인력 배치\n",
        "  - 저녁 시간대 마케팅 실험\n"
      ],
      "metadata": {
        "id": "Z4Kr2axzm9xu"
      }
    }
  ]
}